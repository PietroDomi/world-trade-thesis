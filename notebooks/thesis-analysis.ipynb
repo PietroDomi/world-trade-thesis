{
 "cells": [
  {
   "cell_type": "code",
   "execution_count": 1,
   "metadata": {},
   "outputs": [
    {
     "name": "stdout",
     "output_type": "stream",
     "text": [
      "H:\\My Drive\\COMEXT\n",
      "Functions loaded!\n"
     ]
    }
   ],
   "source": [
    "import os, sys\n",
    "\n",
    "colab = False\n",
    "# #### COLAB ONLY CELL\n",
    "if colab:\n",
    "    from google.colab import drive\n",
    "    drive.mount('/content/gdrive')\n",
    "    # drive.mount('/content/gdrive',force_remount=True)\n",
    "    os.chdir(\"/content/gdrive/MyDrive/COMEXT\")\n",
    "    !pip install -q -r world-trade-thesis/requirements.txt\n",
    "    # !pwd\n",
    "    sys.path.append('/content/gdrive/MyDrive/COMEXT/world-trade-thesis/src')\n",
    "else:\n",
    "    os.chdir(\"H:/My Drive/COMEXT\")\n",
    "    print(os.getcwd())\n",
    "    sys.path.append('H:/My Drive/COMEXT/world-trade-thesis/src')\n",
    "\n",
    "import pandas as pd\n",
    "import networkx as nx\n",
    "import numpy as np\n",
    "import graph_analysis as g\n",
    "from tqdm.notebook import tqdm, trange\n",
    "\n",
    "# exec(open(\"world-trade-thesis/src/graph_analysis.py\",\"r\").read())\n",
    "\n",
    "df_pop, eu_iso = g.load_population_df()"
   ]
  },
  {
   "cell_type": "code",
   "execution_count": 2,
   "metadata": {},
   "outputs": [],
   "source": [
    "complete_metrics_df = pd.read_parquet(\"./data-samples/metrics/metrics_complete_V_4_t4g.parquet\")"
   ]
  },
  {
   "cell_type": "code",
   "execution_count": 6,
   "metadata": {},
   "outputs": [
    {
     "data": {
      "text/plain": [
       "country                                 AF\n",
       "edges                                11160\n",
       "nodes                                  237\n",
       "size                       54403154.799992\n",
       "degree                                  59\n",
       "degree_perc                           0.25\n",
       "out_degree                              41\n",
       "out_degree_perc                   0.173729\n",
       "in_degree                               18\n",
       "in_degree_perc                    0.076271\n",
       "density                           0.199528\n",
       "density_adj                       0.895666\n",
       "clustering                        0.654888\n",
       "page_rank                         0.000699\n",
       "hubs                              0.000001\n",
       "authorities                       0.000023\n",
       "betweenness_centrality            0.001075\n",
       "hubness                             0.5247\n",
       "vulnerability                     0.923729\n",
       "in_weight_degree                907.499982\n",
       "out_weight_degree               491.114202\n",
       "degree_gamma                      1.241614\n",
       "degree_xmin                            1.0\n",
       "in_degree_gamma                   1.285818\n",
       "in_degree_xmin                         1.0\n",
       "out_degree_gamma                  1.290654\n",
       "out_degree_xmin                        1.0\n",
       "in_weight_degree_gamma            1.091668\n",
       "in_weight_degree_xmin                  1.0\n",
       "out_weight_degree_gamma           1.108323\n",
       "out_weight_degree_xmin                 1.0\n",
       "out_weight_abs                  19758296.0\n",
       "in_weight_abs                   29689960.0\n",
       "year                                  2014\n",
       "month                                    -\n",
       "prod                                    10\n",
       "Name: 0, dtype: object"
      ]
     },
     "execution_count": 6,
     "metadata": {},
     "output_type": "execute_result"
    }
   ],
   "source": [
    "complete_metrics_df.iloc[complete_metrics_df.edges.argmax()]"
   ]
  }
 ],
 "metadata": {
  "kernelspec": {
   "display_name": "Python 3.9.1 64-bit",
   "language": "python",
   "name": "python3"
  },
  "language_info": {
   "codemirror_mode": {
    "name": "ipython",
    "version": 3
   },
   "file_extension": ".py",
   "mimetype": "text/x-python",
   "name": "python",
   "nbconvert_exporter": "python",
   "pygments_lexer": "ipython3",
   "version": "3.9.1"
  },
  "orig_nbformat": 4,
  "vscode": {
   "interpreter": {
    "hash": "b34e43460b1a5656059a626cdf611403c874d4f04907897fb8e5776b7d326000"
   }
  }
 },
 "nbformat": 4,
 "nbformat_minor": 2
}
